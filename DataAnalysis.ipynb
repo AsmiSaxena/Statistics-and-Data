{
  "nbformat": 4,
  "nbformat_minor": 0,
  "metadata": {
    "colab": {
      "provenance": []
    },
    "kernelspec": {
      "name": "python3",
      "display_name": "Python 3"
    },
    "language_info": {
      "name": "python"
    }
  },
  "cells": [
    {
      "cell_type": "code",
      "execution_count": 1,
      "metadata": {
        "id": "Q_PFETQGIXXd"
      },
      "outputs": [],
      "source": [
        "# Import necessary libraries\n",
        "import numpy as np\n",
        "import pandas as pd\n",
        "\n"
      ]
    },
    {
      "cell_type": "code",
      "source": [
        "# Load the Titanic dataset\n",
        "data = pd.read_csv('titanic_train.csv')"
      ],
      "metadata": {
        "id": "VPe-n8HSJGw4"
      },
      "execution_count": 2,
      "outputs": []
    },
    {
      "cell_type": "code",
      "source": [
        "# Handle missing values\n",
        "data['Age'] = data['Age'].fillna(data['Age'].mean())\n",
        "data['Embarked'] = data['Embarked'].fillna(data['Embarked'].mode()[0])\n"
      ],
      "metadata": {
        "id": "qFpJ1RcPJMeX"
      },
      "execution_count": 3,
      "outputs": []
    },
    {
      "cell_type": "code",
      "source": [
        "# Encode categorical features\n",
        "data['Sex'] = data['Sex'].map({'male': 0, 'female': 1})\n",
        "data = pd.get_dummies(data, columns=['Embarked'])"
      ],
      "metadata": {
        "id": "R9-OpXZRJP9L"
      },
      "execution_count": 4,
      "outputs": []
    },
    {
      "cell_type": "code",
      "source": [
        "# Feature engineering\n",
        "data['FamilySize'] = data['SibSp'] + data['Parch'] + 1\n",
        "data['Title'] = data['Name'].str.extract(' ([A-Za-z]+)\\.', expand=False)\n"
      ],
      "metadata": {
        "id": "B00q7jCYJ1LM"
      },
      "execution_count": 5,
      "outputs": []
    },
    {
      "cell_type": "code",
      "source": [
        "# Normalize numerical features\n",
        "from sklearn.preprocessing import StandardScaler\n",
        "scaler = StandardScaler()\n",
        "data['Age_scaled'] = scaler.fit_transform(data['Age'].values.reshape(-1, 1))\n",
        "data['Fare_scaled'] = scaler.fit_transform(data['Fare'].values.reshape(-1, 1))\n"
      ],
      "metadata": {
        "id": "aFRREmRxJ5qE"
      },
      "execution_count": 6,
      "outputs": []
    },
    {
      "cell_type": "code",
      "source": [
        "# Display the preprocessed dataset\n",
        "print(data.head())\n"
      ],
      "metadata": {
        "colab": {
          "base_uri": "https://localhost:8080/"
        },
        "id": "hLlDaeziJ9Jp",
        "outputId": "331766be-79e1-4693-df63-3927e602f514"
      },
      "execution_count": 7,
      "outputs": [
        {
          "output_type": "stream",
          "name": "stdout",
          "text": [
            "   PassengerId  Survived  Pclass  \\\n",
            "0            1         0       3   \n",
            "1            2         1       1   \n",
            "2            3         1       3   \n",
            "3            4         1       1   \n",
            "4            5         0       3   \n",
            "\n",
            "                                                Name  Sex   Age  SibSp  Parch  \\\n",
            "0                            Braund, Mr. Owen Harris    0  22.0      1      0   \n",
            "1  Cumings, Mrs. John Bradley (Florence Briggs Th...    1  38.0      1      0   \n",
            "2                             Heikkinen, Miss. Laina    1  26.0      0      0   \n",
            "3       Futrelle, Mrs. Jacques Heath (Lily May Peel)    1  35.0      1      0   \n",
            "4                           Allen, Mr. William Henry    0  35.0      0      0   \n",
            "\n",
            "             Ticket     Fare Cabin  Embarked_C  Embarked_Q  Embarked_S  \\\n",
            "0         A/5 21171   7.2500   NaN       False       False        True   \n",
            "1          PC 17599  71.2833   C85        True       False       False   \n",
            "2  STON/O2. 3101282   7.9250   NaN       False       False        True   \n",
            "3            113803  53.1000  C123       False       False        True   \n",
            "4            373450   8.0500   NaN       False       False        True   \n",
            "\n",
            "   FamilySize Title  Age_scaled  Fare_scaled  \n",
            "0           2    Mr   -0.592481    -0.502445  \n",
            "1           2   Mrs    0.638789     0.786845  \n",
            "2           1  Miss   -0.284663    -0.488854  \n",
            "3           2   Mrs    0.407926     0.420730  \n",
            "4           1    Mr    0.407926    -0.486337  \n"
          ]
        }
      ]
    },
    {
      "cell_type": "code",
      "source": [],
      "metadata": {
        "id": "8wYdpVbrKKJR"
      },
      "execution_count": null,
      "outputs": []
    }
  ]
}